{
 "cells": [
  {
   "cell_type": "markdown",
   "metadata": {
    "colab_type": "text",
    "id": "5Xi0rkaXwB1n"
   },
   "source": [
    "# CheXpert : A Large Chest X-Ray Dataset and Competition\n",
    "\n",
    "This competition launched by the Stanford ML group aims at finding a prediction model which could perform as well as radiologist to find different pathologies thanks to chest X-Ray. The Dataset available to train our model is composed of 223,414 chest radiographs of 65,240 patients.\n",
    "\n",
    "<img src=\"https://github.com/gaetandi/cheXpert/blob/master/view1_frontal.jpg?raw=1\" title=\"X-Ray image of the dataset\" width = 320/>\n",
    "\n",
    "The website of the competition:\n",
    "https://stanfordmlgroup.github.io/competitions/chexpert/\n",
    "\n",
    "[Publication](https://arxiv.org/pdf/1901.07031.pdf) : Irvin, Jeremy, et al. \"CheXpert: A Large Chest Radiograph Dataset with Uncertainty Labels and Expert Comparison.\" arXiv preprint arXiv:1901.07031 (2019).\n",
    "\n",
    "Our goal is first to reproduce main results obtained in the related paper, published in January 2019.\n",
    "\n",
    "References:\n",
    "https://github.com/gaetandi/cheXpert/blob/master/cheXpert_final.ipynb\n",
    "https://pytorch.org/tutorials/beginner/data_loading_tutorial.html"
   ]
  },
  {
   "cell_type": "code",
   "execution_count": 0,
   "metadata": {
    "id": "4toJFrdfsxvz",
    "colab_type": "code",
    "outputId": "1788de54-bb0d-4dcd-83d8-52a4891a63cb",
    "colab": {
     "base_uri": "https://localhost:8080/",
     "height": 122.0
    }
   },
   "outputs": [
    {
     "name": "stdout",
     "output_type": "stream",
     "text": [
      "Go to this URL in a browser: https://accounts.google.com/o/oauth2/auth?client_id=947318989803-6bn6qk8qdgf4n4g3pfee6491hc0brc4i.apps.googleusercontent.com&redirect_uri=urn%3Aietf%3Awg%3Aoauth%3A2.0%3Aoob&scope=email%20https%3A%2F%2Fwww.googleapis.com%2Fauth%2Fdocs.test%20https%3A%2F%2Fwww.googleapis.com%2Fauth%2Fdrive%20https%3A%2F%2Fwww.googleapis.com%2Fauth%2Fdrive.photos.readonly%20https%3A%2F%2Fwww.googleapis.com%2Fauth%2Fpeopleapi.readonly&response_type=code\n",
      "\n",
      "Enter your authorization code:\n",
      "··········\n",
      "Mounted at /content/drive\n"
     ]
    }
   ],
   "source": [
    "from google.colab import drive\n",
    "drive.mount('/content/drive')"
   ]
  },
  {
   "cell_type": "code",
   "execution_count": 0,
   "metadata": {
    "colab_type": "code",
    "id": "WpmWc4o9wHPl",
    "outputId": "bbe389ab-7347-45f3-be4f-f2117a17ec33",
    "colab": {
     "base_uri": "https://localhost:8080/",
     "height": 80.0
    }
   },
   "outputs": [
    {
     "name": "stdout",
     "output_type": "stream",
     "text": [
      "Updating fastai...\n",
      "Done.\n"
     ]
    }
   ],
   "source": [
    "# fastai colab setup\n",
    "# !curl -s https://course.fast.ai/setup/colab | bash"
   ]
  },
  {
   "cell_type": "code",
   "execution_count": 0,
   "metadata": {
    "colab_type": "code",
    "id": "MlPuo4eFwB1p",
    "outputId": "e65dcb49-bbb2-4391-87ee-c8fe40fca04d",
    "colab": {
     "base_uri": "https://localhost:8080/",
     "height": 34.0
    }
   },
   "outputs": [
    {
     "data": {
      "text/plain": [
       "True"
      ]
     },
     "execution_count": 4,
     "metadata": {
      "tags": []
     },
     "output_type": "execute_result"
    }
   ],
   "source": [
    "import os\n",
    "import numpy as np\n",
    "import time\n",
    "import sys\n",
    "import csv\n",
    "import cv2\n",
    "import matplotlib.pyplot as plt\n",
    "\n",
    "import torch\n",
    "import torch.nn as nn\n",
    "import torch.backends.cudnn as cudnn\n",
    "import torchvision\n",
    "import torchvision.transforms as transforms\n",
    "import torch.optim as optim\n",
    "import torch.nn.functional as tfunc\n",
    "from torch.utils.data import Dataset\n",
    "from torch.utils.data.dataset import random_split\n",
    "from torch.utils.data import DataLoader\n",
    "from torch.optim.lr_scheduler import ReduceLROnPlateau\n",
    "from torchvision import models\n",
    "\n",
    "import PIL.Image\n",
    "import torch.nn.functional as func\n",
    "\n",
    "from sklearn.metrics.ranking import roc_auc_score\n",
    "import sklearn.metrics as metrics\n",
    "import random\n",
    "\n",
    "use_gpu = torch.cuda.is_available()\n",
    "use_gpu"
   ]
  },
  {
   "cell_type": "code",
   "execution_count": 0,
   "metadata": {
    "colab_type": "code",
    "id": "3DQrdeKZxQgq",
    "colab": {}
   },
   "outputs": [],
   "source": [
    "%reload_ext autoreload\n",
    "%autoreload 2\n",
    "%matplotlib inline"
   ]
  },
  {
   "cell_type": "code",
   "execution_count": 0,
   "metadata": {
    "colab_type": "code",
    "id": "Fro_ao-kxuCa",
    "colab": {}
   },
   "outputs": [],
   "source": [
    "from fastai.vision import *\n",
    "import os"
   ]
  },
  {
   "cell_type": "code",
   "execution_count": 0,
   "metadata": {
    "colab_type": "code",
    "id": "H2qRd7BCA3ZS",
    "colab": {}
   },
   "outputs": [],
   "source": [
    "#os.chdir(\"/content/drive/My Drive/PyTorch_Hackathon_CheXpert/CheXpert-v1.0-small\")\n",
    "os.chdir(\"/content/drive/My Drive/Colab Notebooks/Challenge/data/CheXpert-v1.0-small\")"
   ]
  },
  {
   "cell_type": "code",
   "execution_count": 0,
   "metadata": {
    "colab_type": "code",
    "id": "LJszyft2BAgB",
    "outputId": "d2241b11-b0c7-4b1d-ecad-1014c7367ebe",
    "colab": {
     "base_uri": "https://localhost:8080/",
     "height": 34.0
    }
   },
   "outputs": [
    {
     "name": "stdout",
     "output_type": "stream",
     "text": [
      "/content/drive/My Drive/Colab Notebooks/Challenge/data/CheXpert-v1.0-small\n"
     ]
    }
   ],
   "source": [
    "!pwd"
   ]
  },
  {
   "cell_type": "code",
   "execution_count": 0,
   "metadata": {
    "colab_type": "code",
    "id": "TOGZGehZwB1u",
    "colab": {}
   },
   "outputs": [],
   "source": [
    "# Paths to the files with training, and validation sets.\n",
    "# Each file contains pairs (path to image, output vector)\n",
    "pathFileTrain = 'train50000.csv'\n",
    "pathFileValid = 'valid.csv'\n",
    "\n",
    "# Neural network parameters:\n",
    "nnIsTrained = False                 #pre-trained using ImageNet\n",
    "nnClassCount = 14                   #dimension of the output\n",
    "\n",
    "# Training settings: batch size, maximum number of epochs\n",
    "trBatchSize = 64\n",
    "trMaxEpoch = 3\n",
    "\n",
    "# Parameters related to image transforms: size of the down-scaled image, cropped image\n",
    "imgtransResize = (255, 255)\n",
    "imgtransCrop = 224\n",
    "\n",
    "# Class names\n",
    "class_names = ['No Finding', 'Enlarged Cardiomediastinum', 'Cardiomegaly', 'Lung Opacity', \n",
    "               'Lung Lesion', 'Edema', 'Consolidation', 'Pneumonia', 'Atelectasis', 'Pneumothorax', \n",
    "               'Pleural Effusion', 'Pleural Other', 'Fracture', 'Support Devices']"
   ]
  },
  {
   "cell_type": "markdown",
   "metadata": {
    "colab_type": "text",
    "id": "vjZztxbpwB1y"
   },
   "source": [
    "## 1. Create a Dataset\n",
    "\n",
    "In this first part, we create a loader able to load the data thanks to the csv files of the dataset.\n",
    "This loader first load labels and paths to the different images.\n",
    "\n",
    "It includes a pre-processing of labels to deal with uncertainty labels.\n",
    "Indeed, four different labels exist:\n",
    "-  **Blanks ('')**: the existence of the pathology is unknown\n",
    "-  **Ones (1)**: the pathology is detected thanks to the image\n",
    "-  **Zeros (0)**: the pathology can't be detected thanks to the image\n",
    "-  **Uncertain (-1)**: the pathology may be detected.\n",
    "\n",
    "In order to deal with uncertainty labels, different policies can be applied. The easiest ones consists in changing those **Uncertain** labels to *Blanks*, *Ones* or *Zeros*. This process is done thanks to the following class."
   ]
  },
  {
   "cell_type": "code",
   "execution_count": 0,
   "metadata": {
    "colab_type": "code",
    "id": "2NQUBySzwB1z",
    "colab": {}
   },
   "outputs": [],
   "source": [
    "class CheXpertDataSet(Dataset):\n",
    "    def __init__(self, image_list_file, transform=None, policy=\"ones\", ttype=\"train\"):\n",
    "        \"\"\"\n",
    "        image_list_file: path to the file containing images with corresponding labels.\n",
    "        transform: optional transform to be applied on a sample.\n",
    "        Upolicy: name the policy with regard to the uncertain labels\n",
    "        \"\"\"\n",
    "        x = []\n",
    "        y = []\n",
    "\n",
    "        with open(image_list_file, \"r\") as f:\n",
    "            csvReader = csv.reader(f)\n",
    "            next(csvReader, None)\n",
    "            k=0\n",
    "            for line in csvReader:\n",
    "                k+=1\n",
    "                image_name= line[0]\n",
    "                label = line[5:]\n",
    "                \n",
    "                for i in range(14):\n",
    "                    if label[i]:\n",
    "                        a = float(label[i])\n",
    "                        if a == 1:\n",
    "                            label[i] = 1\n",
    "                        elif a == -1:\n",
    "                            if policy == \"ones\":\n",
    "                                label[i] = 1\n",
    "                            elif policy == \"zeroes\":\n",
    "                                label[i] = 0\n",
    "                            else:\n",
    "                                label[i] = 0\n",
    "                        else:\n",
    "                            label[i] = 0\n",
    "                    else:\n",
    "                        label[i] = 0\n",
    "                        \n",
    "                x.append('/content/drive/My Drive/Colab Notebooks/Challenge/data/' + image_name)\n",
    "                y.append(label)\n",
    "\n",
    "        self.x = x\n",
    "        self.y = y\n",
    "        self.transform = transform\n",
    "\n",
    "    def __getitem__(self, index):\n",
    "        \"\"\"Take the index of item and returns the image and its labels\"\"\"\n",
    "        \n",
    "        image_name = self.x[index]\n",
    "        # image = Image.open(image_name).convert('RGB')\n",
    "        image = PIL.Image.open(image_name).convert('RGB')\n",
    "        label = self.y[index]\n",
    "        if self.transform is not None:\n",
    "            image = self.transform(image)\n",
    "        return image, torch.LongTensor(label)\n",
    "\n",
    "    def __len__(self):\n",
    "        return len(self.x)"
   ]
  },
  {
   "cell_type": "markdown",
   "metadata": {
    "colab_type": "text",
    "id": "u2tyA8DFwB11"
   },
   "source": [
    "## 2. Create DataLoaders\n",
    "\n",
    "First we define a transform model to resize all images and normalize them."
   ]
  },
  {
   "cell_type": "code",
   "execution_count": 0,
   "metadata": {
    "colab_type": "code",
    "id": "bZCDvMJ9wB12",
    "colab": {}
   },
   "outputs": [],
   "source": [
    "#TRANSFORM DATA\n",
    "\n",
    "normalize = transforms.Normalize([0.485, 0.456, 0.406], [0.229, 0.224, 0.225])\n",
    "transformList = []\n",
    "transformList.append(transforms.Resize(imgtransResize))\n",
    "transformList.append(transforms.RandomResizedCrop(imgtransCrop))\n",
    "transformList.append(transforms.RandomHorizontalFlip())\n",
    "transformList.append(transforms.ToTensor())\n",
    "transformList.append(normalize)      \n",
    "transformSequence = transforms.Compose(transformList)"
   ]
  },
  {
   "cell_type": "code",
   "execution_count": 0,
   "metadata": {
    "colab_type": "code",
    "id": "VIqu36m5LbrO",
    "colab": {}
   },
   "outputs": [],
   "source": [
    "class MyDataBunch(DataBunch):\n",
    "  def __init__(self, train_dl:DataLoader, valid_dl:DataLoader, fix_dl:DataLoader=None, test_dl:Optional[DataLoader]=None,\n",
    "                 device:torch.device=None, dl_tfms:Optional[Collection[Callable]]=None, path:PathOrStr='.',\n",
    "                 collate_fn:Callable=data_collate, no_check:bool=False, c=2):\n",
    "    DataBunch.__init__(self, train_dl, valid_dl, fix_dl=None, test_dl=None,\n",
    "                 device=None, dl_tfms=None, path='.',\n",
    "                 collate_fn=data_collate, no_check=False)\n",
    "    \n",
    "    self.c = c\n",
    "  \n",
    "  @classmethod\n",
    "  def create(cls, train_ds:Dataset, valid_ds:Dataset, test_ds:Optional[Dataset]=None, path:PathOrStr='.', bs:int=64,\n",
    "               val_bs:int=None, num_workers:int=defaults.cpus, dl_tfms:Optional[Collection[Callable]]=None,\n",
    "               device:torch.device=None, collate_fn:Callable=data_collate, no_check:bool=False, c=2, **dl_kwargs)->'DataBunch':\n",
    "        \"Create a `DataBunch` from `train_ds`, `valid_ds` and maybe `test_ds` with a batch size of `bs`. Passes `**dl_kwargs` to `DataLoader()`\"\n",
    "        datasets = cls._init_ds(train_ds, valid_ds, test_ds)\n",
    "        val_bs = ifnone(val_bs, bs)\n",
    "        dls = [DataLoader(d, b, shuffle=s, drop_last=s, num_workers=num_workers, **dl_kwargs) for d,b,s in\n",
    "               zip(datasets, (bs,val_bs,val_bs,val_bs), (True,False,False,False)) if d is not None]\n",
    "        return cls(*dls, path=path, device=device, dl_tfms=dl_tfms, collate_fn=collate_fn, no_check=no_check, c=c)"
   ]
  },
  {
   "cell_type": "markdown",
   "metadata": {
    "colab_type": "text",
    "id": "TwMb3lZJwB13"
   },
   "source": [
    "Then we build train, validation and test data loaders. "
   ]
  },
  {
   "cell_type": "code",
   "execution_count": 0,
   "metadata": {
    "colab_type": "code",
    "id": "fXHjaDpLwB14",
    "colab": {}
   },
   "outputs": [],
   "source": [
    "#LOAD DATASET\n",
    "\n",
    "train_ds = CheXpertDataSet(pathFileTrain ,transformSequence, policy=\"ones\", ttype=\"train\")\n",
    "# test_ds, train_ds = random_split(train_ds, [500, len(train_ds) - 500])\n",
    "valid_ds = CheXpertDataSet(pathFileValid, transformSequence, ttype=\"valid\")   \n",
    "\n",
    "# Create dataloaders\n",
    "dataloaderTrain = DataLoader(dataset=train_ds, batch_size=trBatchSize, shuffle=True)\n",
    "dataloaderValid = DataLoader(dataset=valid_ds, batch_size=trBatchSize, shuffle=False)\n",
    "# dataloaderTest = DataLoader(dataset=test_ds, batch_size=trBatchSize, shuffle=False)\n",
    "\n",
    "# Create databunch\n",
    "data = MyDataBunch.create(train_ds=train_ds, valid_ds=valid_ds, bs=trBatchSize, c=nnClassCount)\n",
    "# data = MyDataBunch.create(train_ds=train_ds, valid_ds=valid_ds, test_ds=test_ds, bs=trBatchSize, c=nnClassCount)"
   ]
  },
  {
   "cell_type": "code",
   "execution_count": 0,
   "metadata": {
    "colab_type": "code",
    "id": "T_QVXd0MR8bX",
    "colab": {}
   },
   "outputs": [],
   "source": [
    "def imshow(image, ax=None, title=None, normalize=True):\n",
    "    \"\"\"Imshow for Tensor.\"\"\"\n",
    "    if ax is None:\n",
    "        fig, ax = plt.subplots()\n",
    "    image = image.numpy().transpose((1, 2, 0))\n",
    "\n",
    "    if normalize:\n",
    "        mean = np.array([0.485, 0.456, 0.406])\n",
    "        std = np.array([0.229, 0.224, 0.225])\n",
    "        image = std * image + mean\n",
    "        image = np.clip(image, 0, 1)\n",
    "\n",
    "    ax.imshow(image)\n",
    "    ax.spines['top'].set_visible(False)\n",
    "    ax.spines['right'].set_visible(False)\n",
    "    ax.spines['left'].set_visible(False)\n",
    "    ax.spines['bottom'].set_visible(False)\n",
    "    ax.tick_params(axis='both', length=0)\n",
    "    ax.set_xticklabels('')\n",
    "    ax.set_yticklabels('')\n",
    "\n",
    "    return ax"
   ]
  },
  {
   "cell_type": "code",
   "execution_count": 0,
   "metadata": {
    "colab_type": "code",
    "id": "YeWaFe80RGmt",
    "colab": {}
   },
   "outputs": [],
   "source": [
    "images, labels = next(iter(dataloaderValid))"
   ]
  },
  {
   "cell_type": "code",
   "execution_count": 0,
   "metadata": {
    "colab_type": "code",
    "id": "-aWBFqb9RhtT",
    "outputId": "05d586a4-200b-4600-c62d-dcd10f22549c",
    "colab": {
     "base_uri": "https://localhost:8080/",
     "height": 268.0
    }
   },
   "outputs": [
    {
     "name": "stderr",
     "output_type": "stream",
     "text": [
      "Clipping input data to the valid range for imshow with RGB data ([0..1] for floats or [0..255] for integers).\n",
      "Clipping input data to the valid range for imshow with RGB data ([0..1] for floats or [0..255] for integers).\n",
      "Clipping input data to the valid range for imshow with RGB data ([0..1] for floats or [0..255] for integers).\n",
      "Clipping input data to the valid range for imshow with RGB data ([0..1] for floats or [0..255] for integers).\n"
     ]
    },
    {
     "data": {
      "image/png": "[encoded data removed]",
      "text/plain": [
       "<Figure size 864x648 with 4 Axes>"
      ]
     },
     "metadata": {
      "tags": []
     },
     "output_type": "display_data"
    }
   ],
   "source": [
    "fig, axes = plt.subplots(figsize=(12,9), ncols=4)\n",
    "for ii in range(4):\n",
    "  ax = axes[ii]\n",
    "  imshow(images[ii], ax=ax, normalize=False)"
   ]
  },
  {
   "cell_type": "markdown",
   "metadata": {
    "colab_type": "text",
    "id": "t-52eZqvKta-"
   },
   "source": [
    "## 3. Create Architecture and Train Model\n",
    "\n",
    "Create an architecture of resnet50, find the best learning rate, and train the model using best slice learning rates."
   ]
  },
  {
   "cell_type": "code",
   "execution_count": 0,
   "metadata": {
    "colab_type": "code",
    "id": "1vweZ5JgQmky",
    "colab": {}
   },
   "outputs": [],
   "source": [
    "# fastai"
   ]
  },
  {
   "cell_type": "code",
   "execution_count": 0,
   "metadata": {
    "colab_type": "code",
    "id": "9e-5JSVAQXfX",
    "colab": {}
   },
   "outputs": [],
   "source": [
    "arch = models.resnet50\n",
    "# arch = models.densenet121"
   ]
  },
  {
   "cell_type": "code",
   "execution_count": 0,
   "metadata": {
    "colab_type": "code",
    "id": "GXsiFmMQQXks",
    "outputId": "2e25a339-b1f3-4202-8ef7-24c7e3bcfb7a",
    "colab": {
     "base_uri": "https://localhost:8080/",
     "height": 71.0
    }
   },
   "outputs": [
    {
     "name": "stderr",
     "output_type": "stream",
     "text": [
      "Downloading: \"https://download.pytorch.org/models/resnet50-19c8e357.pth\" to /root/.cache/torch/checkpoints/resnet50-19c8e357.pth\n",
      "100%|██████████| 102502400/102502400 [00:00<00:00, 105529550.11it/s]\n"
     ]
    }
   ],
   "source": [
    "acc_02 = partial(accuracy_thresh, thresh=0.2)\n",
    "f_score = partial(fbeta, thresh=0.2)\n",
    "learn = cnn_learner(data, arch, metrics=[acc_02, f_score])\n",
    "learn.loss_func = BCEWithLogitsFlat()"
   ]
  },
  {
   "cell_type": "code",
   "execution_count": 0,
   "metadata": {
    "colab_type": "code",
    "id": "NuaFcU6oQXt1",
    "outputId": "d322f9ef-e2a2-41b3-8b5e-84f77d2abe1c",
    "colab": {
     "base_uri": "https://localhost:8080/",
     "height": 34.0
    }
   },
   "outputs": [
    {
     "data": {
      "text/html": [
       ""
      ],
      "text/plain": [
       "<IPython.core.display.HTML object>"
      ]
     },
     "metadata": {
      "tags": []
     },
     "output_type": "execute_result"
    },
    {
     "name": "stdout",
     "output_type": "stream",
     "text": [
      "LR Finder is complete, type {learner_name}.recorder.plot() to see the graph.\n"
     ]
    }
   ],
   "source": [
    "learn.lr_find()"
   ]
  },
  {
   "cell_type": "code",
   "execution_count": 0,
   "metadata": {
    "colab_type": "code",
    "id": "nwVJWx7BQje7",
    "outputId": "37dab533-bcb2-4b05-ec76-026690e20f3c",
    "colab": {
     "base_uri": "https://localhost:8080/",
     "height": 283.0
    }
   },
   "outputs": [
    {
     "data": {
      "image/png": "[encoded data removed]",
      "text/plain": [
       "<Figure size 432x288 with 1 Axes>"
      ]
     },
     "metadata": {
      "tags": []
     },
     "output_type": "display_data"
    }
   ],
   "source": [
    "learn.recorder.plot()"
   ]
  },
  {
   "cell_type": "code",
   "execution_count": 0,
   "metadata": {
    "colab_type": "code",
    "id": "LcMA_MieQjmP",
    "colab": {}
   },
   "outputs": [],
   "source": [
    "lr = 0.03"
   ]
  },
  {
   "cell_type": "code",
   "execution_count": 0,
   "metadata": {
    "colab_type": "code",
    "id": "DMAf6AF9Qkjh",
    "outputId": "9974de24-fbba-42c4-99fa-9c581d4f0c2e",
    "colab": {
     "base_uri": "https://localhost:8080/",
     "height": 95.0
    }
   },
   "outputs": [
    {
     "data": {
      "text/html": [
       "\n",
       "    <div>\n",
       "        <style>\n",
       "            /* Turns off some styling */\n",
       "            progress {\n",
       "                /* gets rid of default border in Firefox and Opera. */\n",
       "                border: none;\n",
       "                /* Needs to be in here for Safari polyfill so background images work as expected. */\n",
       "                background-size: auto;\n",
       "            }\n",
       "            .progress-bar-interrupted, .progress-bar-interrupted::-webkit-progress-bar {\n",
       "                background: #F44336;\n",
       "            }\n",
       "        </style>\n",
       "      <progress value='0' class='' max='5', style='width:300px; height:20px; vertical-align: middle;'></progress>\n",
       "      0.00% [0/5 00:00<00:00]\n",
       "    </div>\n",
       "    \n",
       "<table border=\"1\" class=\"dataframe\">\n",
       "  <thead>\n",
       "    <tr style=\"text-align: left;\">\n",
       "      <th>epoch</th>\n",
       "      <th>train_loss</th>\n",
       "      <th>valid_loss</th>\n",
       "      <th>accuracy_thresh</th>\n",
       "      <th>fbeta</th>\n",
       "      <th>time</th>\n",
       "    </tr>\n",
       "  </thead>\n",
       "  <tbody>\n",
       "  </tbody>\n",
       "</table><p>\n",
       "\n",
       "    <div>\n",
       "        <style>\n",
       "            /* Turns off some styling */\n",
       "            progress {\n",
       "                /* gets rid of default border in Firefox and Opera. */\n",
       "                border: none;\n",
       "                /* Needs to be in here for Safari polyfill so background images work as expected. */\n",
       "                background-size: auto;\n",
       "            }\n",
       "            .progress-bar-interrupted, .progress-bar-interrupted::-webkit-progress-bar {\n",
       "                background: #F44336;\n",
       "            }\n",
       "        </style>\n",
       "      <progress value='0' class='' max='536', style='width:300px; height:20px; vertical-align: middle;'></progress>\n",
       "      0.00% [0/536 00:00<00:00]\n",
       "    </div>\n",
       "    "
      ],
      "text/plain": [
       "<IPython.core.display.HTML object>"
      ]
     },
     "metadata": {
      "tags": []
     },
     "output_type": "execute_result"
    }
   ],
   "source": [
    "learn.fit_one_cycle(5, slice(lr))"
   ]
  },
  {
   "cell_type": "code",
   "execution_count": 0,
   "metadata": {
    "id": "R1gvcUN7foKi",
    "colab_type": "code",
    "colab": {}
   },
   "outputs": [],
   "source": [
    "# Save model before fine tuning\n",
    "learn.save('stage-1-rn50')"
   ]
  },
  {
   "cell_type": "code",
   "execution_count": 0,
   "metadata": {
    "id": "SognWQhSfoKi",
    "colab_type": "code",
    "colab": {}
   },
   "outputs": [],
   "source": [
    "# Fine tune model\n",
    "learn.unfreeze()"
   ]
  },
  {
   "cell_type": "code",
   "execution_count": 0,
   "metadata": {
    "id": "c999HYX7foKj",
    "colab_type": "code",
    "colab": {}
   },
   "outputs": [],
   "source": [
    "learn.lr_find()\n",
    "learn.recorder.plot()"
   ]
  },
  {
   "cell_type": "code",
   "execution_count": 0,
   "metadata": {
    "id": "fnDT958-foKk",
    "colab_type": "code",
    "outputId": "272e7e25-3888-44b4-a1c0-1838535e30e0",
    "colab": {}
   },
   "outputs": [
    {
     "data": {
      "text/html": [
       "<table border=\"1\" class=\"dataframe\">\n",
       "  <thead>\n",
       "    <tr style=\"text-align: left;\">\n",
       "      <th>epoch</th>\n",
       "      <th>train_loss</th>\n",
       "      <th>valid_loss</th>\n",
       "      <th>accuracy_thresh</th>\n",
       "      <th>fbeta</th>\n",
       "      <th>time</th>\n",
       "    </tr>\n",
       "  </thead>\n",
       "  <tbody>\n",
       "    <tr>\n",
       "      <td>0</td>\n",
       "      <td>0.378650</td>\n",
       "      <td>0.450442</td>\n",
       "      <td>0.788156</td>\n",
       "      <td>0.575232</td>\n",
       "      <td>03:06</td>\n",
       "    </tr>\n",
       "    <tr>\n",
       "      <td>1</td>\n",
       "      <td>0.383189</td>\n",
       "      <td>0.495613</td>\n",
       "      <td>0.770146</td>\n",
       "      <td>0.552178</td>\n",
       "      <td>03:07</td>\n",
       "    </tr>\n",
       "    <tr>\n",
       "      <td>2</td>\n",
       "      <td>0.376022</td>\n",
       "      <td>0.369219</td>\n",
       "      <td>0.772283</td>\n",
       "      <td>0.604469</td>\n",
       "      <td>03:07</td>\n",
       "    </tr>\n",
       "    <tr>\n",
       "      <td>3</td>\n",
       "      <td>0.368444</td>\n",
       "      <td>0.371852</td>\n",
       "      <td>0.774725</td>\n",
       "      <td>0.597337</td>\n",
       "      <td>03:08</td>\n",
       "    </tr>\n",
       "    <tr>\n",
       "      <td>4</td>\n",
       "      <td>0.365860</td>\n",
       "      <td>0.377561</td>\n",
       "      <td>0.784799</td>\n",
       "      <td>0.594255</td>\n",
       "      <td>03:02</td>\n",
       "    </tr>\n",
       "  </tbody>\n",
       "</table>"
      ],
      "text/plain": [
       "<IPython.core.display.HTML object>"
      ]
     },
     "metadata": {
      "tags": []
     },
     "output_type": "execute_result"
    }
   ],
   "source": [
    "learn.fit_one_cycle(5, slice(1e-5, lr/5))"
   ]
  },
  {
   "cell_type": "code",
   "execution_count": 0,
   "metadata": {
    "id": "2-w_qIYKfoKl",
    "colab_type": "code",
    "colab": {}
   },
   "outputs": [],
   "source": [
    ""
   ]
  },
  {
   "cell_type": "code",
   "execution_count": 0,
   "metadata": {
    "id": "rfGAZTtHfoKm",
    "colab_type": "code",
    "colab": {}
   },
   "outputs": [],
   "source": [
    ""
   ]
  },
  {
   "cell_type": "code",
   "execution_count": 0,
   "metadata": {
    "id": "o8outBJtfoKm",
    "colab_type": "code",
    "colab": {}
   },
   "outputs": [],
   "source": [
    ""
   ]
  },
  {
   "cell_type": "code",
   "execution_count": 0,
   "metadata": {
    "id": "4sYiz3BifoKn",
    "colab_type": "code",
    "colab": {}
   },
   "outputs": [],
   "source": [
    ""
   ]
  },
  {
   "cell_type": "code",
   "execution_count": 0,
   "metadata": {
    "id": "7bfFFgopfoKn",
    "colab_type": "code",
    "colab": {}
   },
   "outputs": [],
   "source": [
    ""
   ]
  },
  {
   "cell_type": "code",
   "execution_count": 0,
   "metadata": {
    "colab_type": "code",
    "id": "THvgBNUuQlA6",
    "colab": {}
   },
   "outputs": [],
   "source": [
    "# pytorch pre-trained model"
   ]
  },
  {
   "cell_type": "code",
   "execution_count": 0,
   "metadata": {
    "colab_type": "code",
    "id": "F4kw74uoLaa5",
    "colab": {}
   },
   "outputs": [],
   "source": [
    "model = models.resnet50(pretrained=True)\n",
    "model"
   ]
  },
  {
   "cell_type": "code",
   "execution_count": 0,
   "metadata": {
    "colab_type": "code",
    "id": "4Ys9UcPlgFlN",
    "colab": {}
   },
   "outputs": [],
   "source": [
    "# Modify resnet50 for our training dataset\n",
    "for param in model.parameters():\n",
    "  param.requires_grad = False\n",
    "\n",
    "from collections import OrderedDict\n",
    "classifier = nn.Sequential(OrderedDict([\n",
    "                         ('fc', nn.Linear(1024, 256)),\n",
    "                         ('relu', nn.ReLU()),\n",
    "                         ('dropout', nn.Dropout(0.2)),\n",
    "                         ('fc2', nn.Linear(256, nnClassCount))\n",
    "                         ]))\n",
    "\n",
    "model.classifier = classifier"
   ]
  },
  {
   "cell_type": "code",
   "execution_count": 0,
   "metadata": {
    "colab_type": "code",
    "id": "FuR0hokLioad",
    "colab": {}
   },
   "outputs": [],
   "source": [
    "# Training on GPU\n",
    "device = torch.device(\"cuda\" if torch.cuda.is_available else \"cpu\")\n",
    "\n",
    "criterion = nn.MultiLabelSoftMarginLoss()\n",
    "optimizer = optim.Adam(model.classifier.parameters(), lr=1e-5)\n",
    "\n",
    "model.to(device)"
   ]
  },
  {
   "cell_type": "code",
   "execution_count": 0,
   "metadata": {
    "colab_type": "code",
    "id": "tluh5tfglZ8A",
    "colab": {}
   },
   "outputs": [],
   "source": [
    "epochs = 1\n",
    "for epoch in range(epochs):\n",
    "  losses = []\n",
    "  for inputs, labels in dataloaderTrain:\n",
    "      # Move input and label tensors to the default device\n",
    "      inputs, labels = inputs.to(device), labels.to(device)\n",
    "      labels.long()\n",
    "\n",
    "      optimizer.zero_grad()\n",
    "        \n",
    "      logps = model.forward(inputs)\n",
    "      loss = criterion(logps, labels)\n",
    "      loss.backward()\n",
    "      optimizer.step()\n",
    "\n",
    "      losses.append(loss.data.mean())\n",
    "  print('[%d/%d] Loss: %.3f' % (epoch+1, epochs, np.mean(losses)))"
   ]
  }
 ],
 "metadata": {
  "accelerator": "GPU",
  "colab": {
   "name": "pytorch_hackathon_cheXpert_erin-2.ipynb",
   "version": "0.3.2",
   "provenance": [],
   "collapsed_sections": [],
   "toc_visible": true
  },
  "kernelspec": {
   "display_name": "Python 3",
   "language": "python",
   "name": "python3"
  },
  "language_info": {
   "codemirror_mode": {
    "name": "ipython",
    "version": 3
   },
   "file_extension": ".py",
   "mimetype": "text/x-python",
   "name": "python",
   "nbconvert_exporter": "python",
   "pygments_lexer": "ipython3",
   "version": "3.7.4"
  }
 },
 "nbformat": 4,
 "nbformat_minor": 0
}
