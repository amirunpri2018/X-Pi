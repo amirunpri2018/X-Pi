{
 "cells": [
  {
   "cell_type": "code",
   "execution_count": 1,
   "metadata": {
    "colab": {
     "base_uri": "https://localhost:8080/",
     "height": 34
    },
    "colab_type": "code",
    "executionInfo": {
     "elapsed": 1097,
     "status": "ok",
     "timestamp": 1568172515415,
     "user": {
      "displayName": "Qin Hu",
      "photoUrl": "https://lh3.googleusercontent.com/a-/AAuE7mD__pR-MhUPSehMt0cAKrqH4lYZG8qxYmk_yjCK=s64",
      "userId": "06372700396773093593"
     },
     "user_tz": 240
    },
    "id": "MlPuo4eFwB1p",
    "outputId": "a4ff44a0-a93b-4bd0-c5c6-61e1a30947b9"
   },
   "outputs": [
    {
     "data": {
      "text/plain": [
       "True"
      ]
     },
     "execution_count": 1,
     "metadata": {},
     "output_type": "execute_result"
    }
   ],
   "source": [
    "import numpy as np\n",
    "import csv\n",
    "import matplotlib.pyplot as plt\n",
    "\n",
    "import torch\n",
    "import torchvision\n",
    "import torchvision.transforms as transforms\n",
    "from torch.utils.data import Dataset\n",
    "from torch.utils.data.dataset import random_split\n",
    "from torch.utils.data import DataLoader\n",
    "from torchvision import models\n",
    "from fastai.vision import *\n",
    "\n",
    "import PIL.Image\n",
    "\n",
    "use_gpu = torch.cuda.is_available()\n",
    "use_gpu"
   ]
  },
  {
   "cell_type": "code",
   "execution_count": 2,
   "metadata": {
    "colab": {},
    "colab_type": "code",
    "id": "3DQrdeKZxQgq"
   },
   "outputs": [],
   "source": [
    "%reload_ext autoreload\n",
    "%autoreload 2\n",
    "%matplotlib inline"
   ]
  },
  {
   "cell_type": "code",
   "execution_count": 4,
   "metadata": {
    "colab": {},
    "colab_type": "code",
    "id": "TOGZGehZwB1u"
   },
   "outputs": [],
   "source": [
    "# Paths to the files with training, and validation sets.\n",
    "# Each file contains pairs (path to image, output vector)\n",
    "pathFileTrain = 'train50000.csv'\n",
    "pathFileValid = 'valid.csv'\n",
    "\n",
    "# Neural network parameters:\n",
    "nnClassCount = 14                   #dimension of the output\n",
    "\n",
    "# Training settings: batch size\n",
    "trBatchSize = 64\n",
    "\n",
    "# Parameters related to image transforms: size of the down-scaled image, cropped image\n",
    "imgtransResize = (255, 255)\n",
    "imgtransCrop = 224"
   ]
  },
  {
   "cell_type": "markdown",
   "metadata": {
    "colab_type": "text",
    "id": "vjZztxbpwB1y"
   },
   "source": [
    "## 1. Create Dataset\n",
    "We create our dataset from a csv file which includes image names and mask of each image. Each mask includes 14 different types of pathologies. It's possible that each image has more than one pathologies, indicating we use multi-hot encoding in this project.<br><br>\n",
    "_Mask Type:_\n",
    "* Blanks (''): the existence of the pathology is unknown.\n",
    "* Ones (1): the pathology is detected thanks to the image.\n",
    "* Zeros (0): the pathology can't be detected thanks to the image.\n",
    "* Uncertain (-1): the pathology may be detected.\n",
    "\n",
    "_Policies:_\n",
    "* ones: seeing all the uncertain pathologies as positive\n",
    "* zeros: seeing all the uncertain pathologies as negative"
   ]
  },
  {
   "cell_type": "code",
   "execution_count": 5,
   "metadata": {
    "colab": {},
    "colab_type": "code",
    "id": "2NQUBySzwB1z"
   },
   "outputs": [],
   "source": [
    "class CheXpertDataSet(Dataset):\n",
    "    def __init__(self, image_list_file, transform=None, policy=\"ones\"):\n",
    "        \"\"\"\n",
    "        image_list_file: path to the file containing images with corresponding labels.\n",
    "        transform: optional transform to be applied on a sample.\n",
    "        Upolicy: name the policy with regard to the uncertain labels\n",
    "        \"\"\"\n",
    "        x = []\n",
    "        y = []\n",
    "\n",
    "        with open(image_list_file, \"r\") as f:\n",
    "            csvReader = csv.reader(f)\n",
    "            next(csvReader, None)\n",
    "            k=0\n",
    "            for line in csvReader:\n",
    "                k+=1\n",
    "                image_name= line[0]\n",
    "                label = line[5:]\n",
    "                \n",
    "                for i in range(14):\n",
    "                    if label[i]:\n",
    "                        a = float(label[i])\n",
    "                        if a == 1:\n",
    "                            label[i] = 1\n",
    "                        elif a == -1:\n",
    "                            if policy == \"ones\":\n",
    "                                label[i] = 1\n",
    "                            elif policy == \"zeroes\":\n",
    "                                label[i] = 0\n",
    "                            else:\n",
    "                                label[i] = 0\n",
    "                        else:\n",
    "                            label[i] = 0\n",
    "                    else:\n",
    "                        label[i] = 0\n",
    "                        \n",
    "                x.append('../' + image_name)\n",
    "                y.append(label)\n",
    "\n",
    "        self.x = x\n",
    "        self.y = y\n",
    "        self.transform = transform\n",
    "\n",
    "    def __getitem__(self, index):\n",
    "        \"\"\"Take the index of item and returns the image and its labels\"\"\"\n",
    "        \n",
    "        image_name = self.x[index]\n",
    "        # image = Image.open(image_name).convert('RGB')\n",
    "        image = PIL.Image.open(image_name).convert('RGB')\n",
    "        label = self.y[index]\n",
    "        if self.transform is not None:\n",
    "            image = self.transform(image)\n",
    "        return image, torch.LongTensor(label)\n",
    "\n",
    "    def __len__(self):\n",
    "        return len(self.x)"
   ]
  },
  {
   "cell_type": "markdown",
   "metadata": {
    "colab_type": "text",
    "id": "u2tyA8DFwB11"
   },
   "source": [
    "## 2. Create DataLoaders\n",
    "\n",
    "First we define a transform model to resize all images and normalize them."
   ]
  },
  {
   "cell_type": "code",
   "execution_count": 6,
   "metadata": {
    "colab": {},
    "colab_type": "code",
    "id": "bZCDvMJ9wB12"
   },
   "outputs": [],
   "source": [
    "#TRANSFORM DATA\n",
    "\n",
    "normalize = transforms.Normalize([0.485, 0.456, 0.406], [0.229, 0.224, 0.225])\n",
    "transformList = []\n",
    "transformList.append(transforms.Resize(imgtransResize))\n",
    "transformList.append(transforms.RandomResizedCrop(imgtransCrop))\n",
    "transformList.append(transforms.RandomHorizontalFlip())\n",
    "transformList.append(transforms.ToTensor())\n",
    "transformList.append(normalize)      \n",
    "transformSequence = transforms.Compose(transformList)"
   ]
  },
  {
   "cell_type": "code",
   "execution_count": 7,
   "metadata": {
    "colab": {},
    "colab_type": "code",
    "id": "VIqu36m5LbrO"
   },
   "outputs": [],
   "source": [
    "# Create subclass of databunch for cnn_learner use\n",
    "\n",
    "class MyDataBunch(DataBunch):\n",
    "  def __init__(self, train_dl:DataLoader, valid_dl:DataLoader, fix_dl:DataLoader=None, test_dl:Optional[DataLoader]=None,\n",
    "                 device:torch.device=None, dl_tfms:Optional[Collection[Callable]]=None, path:PathOrStr='.',\n",
    "                 collate_fn:Callable=data_collate, no_check:bool=False, c=2):\n",
    "    DataBunch.__init__(self, train_dl, valid_dl, fix_dl=None, test_dl=None,\n",
    "                 device=None, dl_tfms=None, path='.',\n",
    "                 collate_fn=data_collate, no_check=False)\n",
    "    \n",
    "    self.c = c\n",
    "  \n",
    "  @classmethod\n",
    "  def create(cls, train_ds:Dataset, valid_ds:Dataset, test_ds:Optional[Dataset]=None, path:PathOrStr='.', bs:int=64,\n",
    "               val_bs:int=None, num_workers:int=defaults.cpus, dl_tfms:Optional[Collection[Callable]]=None,\n",
    "               device:torch.device=None, collate_fn:Callable=data_collate, no_check:bool=False, c=2, **dl_kwargs)->'DataBunch':\n",
    "        \"Create a `DataBunch` from `train_ds`, `valid_ds` and maybe `test_ds` with a batch size of `bs`. Passes `**dl_kwargs` to `DataLoader()`\"\n",
    "        datasets = cls._init_ds(train_ds, valid_ds, test_ds)\n",
    "        val_bs = ifnone(val_bs, bs)\n",
    "        dls = [DataLoader(d, b, shuffle=s, drop_last=s, num_workers=num_workers, **dl_kwargs) for d,b,s in\n",
    "               zip(datasets, (bs,val_bs,val_bs,val_bs), (True,False,False,False)) if d is not None]\n",
    "        return cls(*dls, path=path, device=device, dl_tfms=dl_tfms, collate_fn=collate_fn, no_check=no_check, c=c)"
   ]
  },
  {
   "cell_type": "markdown",
   "metadata": {
    "colab_type": "text",
    "id": "TwMb3lZJwB13"
   },
   "source": [
    "Then we build train, validation and test data loaders. "
   ]
  },
  {
   "cell_type": "code",
   "execution_count": 8,
   "metadata": {
    "colab": {},
    "colab_type": "code",
    "id": "fXHjaDpLwB14"
   },
   "outputs": [],
   "source": [
    "#LOAD DATASET\n",
    "\n",
    "train_ds = CheXpertDataSet(pathFileTrain ,transformSequence, policy=\"ones\")\n",
    "valid_ds = CheXpertDataSet(pathFileValid, transformSequence)   \n",
    "\n",
    "# Create dataloaders\n",
    "dataloaderTrain = DataLoader(dataset=train_ds, batch_size=trBatchSize, shuffle=True)\n",
    "dataloaderValid = DataLoader(dataset=valid_ds, batch_size=trBatchSize, shuffle=False)\n",
    "\n",
    "# Create databunch\n",
    "data = MyDataBunch.create(train_ds=train_ds, valid_ds=valid_ds, bs=trBatchSize, c=nnClassCount)"
   ]
  },
  {
   "cell_type": "code",
   "execution_count": 9,
   "metadata": {
    "colab": {},
    "colab_type": "code",
    "id": "T_QVXd0MR8bX"
   },
   "outputs": [],
   "source": [
    "def imshow(image, ax=None, title=None, normalize=True):\n",
    "    \"\"\"Imshow for Tensor.\"\"\"\n",
    "    if ax is None:\n",
    "        fig, ax = plt.subplots()\n",
    "    image = image.numpy().transpose((1, 2, 0))\n",
    "\n",
    "    if normalize:\n",
    "        mean = np.array([0.485, 0.456, 0.406])\n",
    "        std = np.array([0.229, 0.224, 0.225])\n",
    "        image = std * image + mean\n",
    "        image = np.clip(image, 0, 1)\n",
    "\n",
    "    ax.imshow(image)\n",
    "    ax.spines['top'].set_visible(False)\n",
    "    ax.spines['right'].set_visible(False)\n",
    "    ax.spines['left'].set_visible(False)\n",
    "    ax.spines['bottom'].set_visible(False)\n",
    "    ax.tick_params(axis='both', length=0)\n",
    "    ax.set_xticklabels('')\n",
    "    ax.set_yticklabels('')\n",
    "\n",
    "    return ax"
   ]
  },
  {
   "cell_type": "code",
   "execution_count": 10,
   "metadata": {
    "colab": {},
    "colab_type": "code",
    "id": "YeWaFe80RGmt"
   },
   "outputs": [],
   "source": [
    "images, labels = next(iter(dataloaderValid))"
   ]
  },
  {
   "cell_type": "code",
   "execution_count": 11,
   "metadata": {
    "colab": {
     "base_uri": "https://localhost:8080/",
     "height": 248
    },
    "colab_type": "code",
    "executionInfo": {
     "elapsed": 3626,
     "status": "ok",
     "timestamp": 1568172546551,
     "user": {
      "displayName": "Qin Hu",
      "photoUrl": "https://lh3.googleusercontent.com/a-/AAuE7mD__pR-MhUPSehMt0cAKrqH4lYZG8qxYmk_yjCK=s64",
      "userId": "06372700396773093593"
     },
     "user_tz": 240
    },
    "id": "-aWBFqb9RhtT",
    "outputId": "b870a286-d302-45f8-9d6d-2c93fc7dd2c2"
   },
   "outputs": [
    {
     "name": "stderr",
     "output_type": "stream",
     "text": [
      "Clipping input data to the valid range for imshow with RGB data ([0..1] for floats or [0..255] for integers).\n",
      "Clipping input data to the valid range for imshow with RGB data ([0..1] for floats or [0..255] for integers).\n",
      "Clipping input data to the valid range for imshow with RGB data ([0..1] for floats or [0..255] for integers).\n",
      "Clipping input data to the valid range for imshow with RGB data ([0..1] for floats or [0..255] for integers).\n"
     ]
    },
    {
     "data": {
      "image/png": "[encoded data removed]",
      "text/plain": [
       "<Figure size 864x648 with 4 Axes>"
      ]
     },
     "metadata": {
      "needs_background": "light"
     },
     "output_type": "display_data"
    }
   ],
   "source": [
    "fig, axes = plt.subplots(figsize=(12,9), ncols=4)\n",
    "for ii in range(4):\n",
    "  ax = axes[ii]\n",
    "  imshow(images[ii], ax=ax, normalize=False)"
   ]
  },
  {
   "cell_type": "markdown",
   "metadata": {
    "colab_type": "text",
    "id": "t-52eZqvKta-"
   },
   "source": [
    "## 3. Create Architecture and Train Model\n",
    "\n",
    "Create an architecture of resnet50, find the best learning rate, and train the model using best slice learning rates."
   ]
  },
  {
   "cell_type": "code",
   "execution_count": null,
   "metadata": {
    "colab": {},
    "colab_type": "code",
    "id": "1vweZ5JgQmky"
   },
   "outputs": [],
   "source": [
    "# fastai"
   ]
  },
  {
   "cell_type": "code",
   "execution_count": 12,
   "metadata": {
    "colab": {},
    "colab_type": "code",
    "id": "9e-5JSVAQXfX"
   },
   "outputs": [],
   "source": [
    "arch = models.resnet50"
   ]
  },
  {
   "cell_type": "code",
   "execution_count": 13,
   "metadata": {
    "colab": {
     "base_uri": "https://localhost:8080/",
     "height": 51
    },
    "colab_type": "code",
    "executionInfo": {
     "elapsed": 5079,
     "status": "ok",
     "timestamp": 1568172561393,
     "user": {
      "displayName": "Qin Hu",
      "photoUrl": "https://lh3.googleusercontent.com/a-/AAuE7mD__pR-MhUPSehMt0cAKrqH4lYZG8qxYmk_yjCK=s64",
      "userId": "06372700396773093593"
     },
     "user_tz": 240
    },
    "id": "GXsiFmMQQXks",
    "outputId": "4683a288-2768-4772-af9f-5775acc8fd45"
   },
   "outputs": [],
   "source": [
    "acc_02 = partial(accuracy_thresh, thresh=0.2)\n",
    "f_score = partial(fbeta, thresh=0.2)\n",
    "learn = cnn_learner(data, arch, metrics=[acc_02, f_score])\n",
    "learn.loss_func = BCEWithLogitsFlat()"
   ]
  },
  {
   "cell_type": "code",
   "execution_count": 14,
   "metadata": {
    "colab": {
     "base_uri": "https://localhost:8080/",
     "height": 95
    },
    "colab_type": "code",
    "executionInfo": {
     "elapsed": 1069615,
     "status": "ok",
     "timestamp": 1568174295186,
     "user": {
      "displayName": "Qin Hu",
      "photoUrl": "https://lh3.googleusercontent.com/a-/AAuE7mD__pR-MhUPSehMt0cAKrqH4lYZG8qxYmk_yjCK=s64",
      "userId": "06372700396773093593"
     },
     "user_tz": 240
    },
    "id": "NuaFcU6oQXt1",
    "outputId": "fc3f44cd-2e93-4774-b70e-e4299a750424"
   },
   "outputs": [
    {
     "data": {
      "text/html": [],
      "text/plain": [
       "<IPython.core.display.HTML object>"
      ]
     },
     "metadata": {},
     "output_type": "display_data"
    },
    {
     "name": "stdout",
     "output_type": "stream",
     "text": [
      "LR Finder is complete, type {learner_name}.recorder.plot() to see the graph.\n"
     ]
    }
   ],
   "source": [
    "learn.lr_find()"
   ]
  },
  {
   "cell_type": "code",
   "execution_count": 15,
   "metadata": {
    "colab": {
     "base_uri": "https://localhost:8080/",
     "height": 283
    },
    "colab_type": "code",
    "executionInfo": {
     "elapsed": 1440,
     "status": "ok",
     "timestamp": 1568175174989,
     "user": {
      "displayName": "Qin Hu",
      "photoUrl": "https://lh3.googleusercontent.com/a-/AAuE7mD__pR-MhUPSehMt0cAKrqH4lYZG8qxYmk_yjCK=s64",
      "userId": "06372700396773093593"
     },
     "user_tz": 240
    },
    "id": "nwVJWx7BQje7",
    "outputId": "524d60fb-7de7-462f-8a71-c5d1fd0d38a9"
   },
   "outputs": [
    {
     "data": {
      "image/png": "[encoded data removed]",
      "text/plain": [
       "<Figure size 432x288 with 1 Axes>"
      ]
     },
     "metadata": {
      "needs_background": "light"
     },
     "output_type": "display_data"
    }
   ],
   "source": [
    "learn.recorder.plot()"
   ]
  },
  {
   "cell_type": "code",
   "execution_count": 16,
   "metadata": {
    "colab": {},
    "colab_type": "code",
    "id": "LcMA_MieQjmP"
   },
   "outputs": [],
   "source": [
    "lr = 0.03"
   ]
  },
  {
   "cell_type": "code",
   "execution_count": 17,
   "metadata": {
    "colab": {},
    "colab_type": "code",
    "id": "DMAf6AF9Qkjh"
   },
   "outputs": [
    {
     "data": {
      "text/html": [
       "<table border=\"1\" class=\"dataframe\">\n",
       "  <thead>\n",
       "    <tr style=\"text-align: left;\">\n",
       "      <th>epoch</th>\n",
       "      <th>train_loss</th>\n",
       "      <th>valid_loss</th>\n",
       "      <th>accuracy_thresh</th>\n",
       "      <th>fbeta</th>\n",
       "      <th>time</th>\n",
       "    </tr>\n",
       "  </thead>\n",
       "  <tbody>\n",
       "    <tr>\n",
       "      <td>0</td>\n",
       "      <td>0.409358</td>\n",
       "      <td>0.409093</td>\n",
       "      <td>0.750610</td>\n",
       "      <td>0.552286</td>\n",
       "      <td>02:50</td>\n",
       "    </tr>\n",
       "    <tr>\n",
       "      <td>1</td>\n",
       "      <td>0.407807</td>\n",
       "      <td>0.406758</td>\n",
       "      <td>0.717949</td>\n",
       "      <td>0.517468</td>\n",
       "      <td>02:46</td>\n",
       "    </tr>\n",
       "    <tr>\n",
       "      <td>2</td>\n",
       "      <td>0.396310</td>\n",
       "      <td>0.378443</td>\n",
       "      <td>0.772589</td>\n",
       "      <td>0.577844</td>\n",
       "      <td>02:56</td>\n",
       "    </tr>\n",
       "    <tr>\n",
       "      <td>3</td>\n",
       "      <td>0.378183</td>\n",
       "      <td>0.377572</td>\n",
       "      <td>0.785409</td>\n",
       "      <td>0.604669</td>\n",
       "      <td>02:51</td>\n",
       "    </tr>\n",
       "    <tr>\n",
       "      <td>4</td>\n",
       "      <td>0.370711</td>\n",
       "      <td>0.381315</td>\n",
       "      <td>0.772894</td>\n",
       "      <td>0.574081</td>\n",
       "      <td>02:51</td>\n",
       "    </tr>\n",
       "  </tbody>\n",
       "</table>"
      ],
      "text/plain": [
       "<IPython.core.display.HTML object>"
      ]
     },
     "metadata": {},
     "output_type": "display_data"
    }
   ],
   "source": [
    "learn.fit_one_cycle(5, slice(lr))"
   ]
  },
  {
   "cell_type": "code",
   "execution_count": 18,
   "metadata": {},
   "outputs": [],
   "source": [
    "# Save model before fine tuning\n",
    "learn.save('stage-1-rn50')"
   ]
  },
  {
   "cell_type": "code",
   "execution_count": 19,
   "metadata": {},
   "outputs": [],
   "source": [
    "# Fine tune model\n",
    "learn.unfreeze()"
   ]
  },
  {
   "cell_type": "code",
   "execution_count": 20,
   "metadata": {},
   "outputs": [
    {
     "data": {
      "text/html": [],
      "text/plain": [
       "<IPython.core.display.HTML object>"
      ]
     },
     "metadata": {},
     "output_type": "display_data"
    },
    {
     "name": "stdout",
     "output_type": "stream",
     "text": [
      "LR Finder is complete, type {learner_name}.recorder.plot() to see the graph.\n"
     ]
    },
    {
     "data": {
      "image/png": "[encoded data removed]",
      "text/plain": [
       "<Figure size 432x288 with 1 Axes>"
      ]
     },
     "metadata": {
      "needs_background": "light"
     },
     "output_type": "display_data"
    }
   ],
   "source": [
    "learn.lr_find()\n",
    "learn.recorder.plot()"
   ]
  },
  {
   "cell_type": "code",
   "execution_count": 21,
   "metadata": {},
   "outputs": [
    {
     "data": {
      "text/html": [
       "<table border=\"1\" class=\"dataframe\">\n",
       "  <thead>\n",
       "    <tr style=\"text-align: left;\">\n",
       "      <th>epoch</th>\n",
       "      <th>train_loss</th>\n",
       "      <th>valid_loss</th>\n",
       "      <th>accuracy_thresh</th>\n",
       "      <th>fbeta</th>\n",
       "      <th>time</th>\n",
       "    </tr>\n",
       "  </thead>\n",
       "  <tbody>\n",
       "    <tr>\n",
       "      <td>0</td>\n",
       "      <td>0.378650</td>\n",
       "      <td>0.450442</td>\n",
       "      <td>0.788156</td>\n",
       "      <td>0.575232</td>\n",
       "      <td>03:06</td>\n",
       "    </tr>\n",
       "    <tr>\n",
       "      <td>1</td>\n",
       "      <td>0.383189</td>\n",
       "      <td>0.495613</td>\n",
       "      <td>0.770146</td>\n",
       "      <td>0.552178</td>\n",
       "      <td>03:07</td>\n",
       "    </tr>\n",
       "    <tr>\n",
       "      <td>2</td>\n",
       "      <td>0.376022</td>\n",
       "      <td>0.369219</td>\n",
       "      <td>0.772283</td>\n",
       "      <td>0.604469</td>\n",
       "      <td>03:07</td>\n",
       "    </tr>\n",
       "    <tr>\n",
       "      <td>3</td>\n",
       "      <td>0.368444</td>\n",
       "      <td>0.371852</td>\n",
       "      <td>0.774725</td>\n",
       "      <td>0.597337</td>\n",
       "      <td>03:08</td>\n",
       "    </tr>\n",
       "    <tr>\n",
       "      <td>4</td>\n",
       "      <td>0.365860</td>\n",
       "      <td>0.377561</td>\n",
       "      <td>0.784799</td>\n",
       "      <td>0.594255</td>\n",
       "      <td>03:02</td>\n",
       "    </tr>\n",
       "  </tbody>\n",
       "</table>"
      ],
      "text/plain": [
       "<IPython.core.display.HTML object>"
      ]
     },
     "metadata": {},
     "output_type": "display_data"
    }
   ],
   "source": [
    "learn.fit_one_cycle(5, slice(1e-5, lr/5))"
   ]
  },
  {
   "cell_type": "code",
   "execution_count": null,
   "metadata": {},
   "outputs": [],
   "source": [
    "# Save model fine tuned\n",
    "learn.save('stage-2-rn50')"
   ]
  }
 ],
 "metadata": {
  "accelerator": "GPU",
  "colab": {
   "collapsed_sections": [],
   "name": "pytorch_hackathon_cheXpert_erin.ipynb",
   "provenance": [
    {
     "file_id": "https://github.com/gaetandi/cheXpert/blob/master/cheXpert_final.ipynb",
     "timestamp": 1568145462194
    }
   ],
   "version": "0.3.2"
  },
  "kernelspec": {
   "display_name": "Python 3",
   "language": "python",
   "name": "python3"
  },
  "language_info": {
   "codemirror_mode": {
    "name": "ipython",
    "version": 3
   },
   "file_extension": ".py",
   "mimetype": "text/x-python",
   "name": "python",
   "nbconvert_exporter": "python",
   "pygments_lexer": "ipython3",
   "version": "3.7.4"
  }
 },
 "nbformat": 4,
 "nbformat_minor": 1
}
